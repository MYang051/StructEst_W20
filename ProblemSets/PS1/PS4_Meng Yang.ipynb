{
 "cells": [
  {
   "cell_type": "markdown",
   "metadata": {},
   "source": [
    "# Structural Estimation PS4\n",
    "Meng Yang\n",
    "## Estimating the Brock and Mirman model by SMM"
   ]
  },
  {
   "cell_type": "code",
   "execution_count": 1,
   "metadata": {},
   "outputs": [],
   "source": [
    "import numpy as np \n",
    "import pandas as pd \n",
    "import numpy.random as rnd\n",
    "import numpy.linalg as lin\n",
    "import scipy.stats as sts \n",
    "import scipy.integrate as intgr\n",
    "import scipy.optimize as opt\n",
    "import matplotlib.pyplot as plt"
   ]
  },
  {
   "cell_type": "code",
   "execution_count": 2,
   "metadata": {},
   "outputs": [
    {
     "name": "stdout",
     "output_type": "stream",
     "text": [
      "/Users/kate/Desktop/PS4/data\n"
     ]
    }
   ],
   "source": [
    "cd '/Users/kate/Desktop/PS4/data'"
   ]
  },
  {
   "cell_type": "code",
   "execution_count": 3,
   "metadata": {},
   "outputs": [
    {
     "data": {
      "text/html": [
       "<div>\n",
       "<style scoped>\n",
       "    .dataframe tbody tr th:only-of-type {\n",
       "        vertical-align: middle;\n",
       "    }\n",
       "\n",
       "    .dataframe tbody tr th {\n",
       "        vertical-align: top;\n",
       "    }\n",
       "\n",
       "    .dataframe thead th {\n",
       "        text-align: right;\n",
       "    }\n",
       "</style>\n",
       "<table border=\"1\" class=\"dataframe\">\n",
       "  <thead>\n",
       "    <tr style=\"text-align: right;\">\n",
       "      <th></th>\n",
       "      <th>c_t</th>\n",
       "      <th>k_t</th>\n",
       "      <th>w_t</th>\n",
       "      <th>r_t</th>\n",
       "      <th>y_t</th>\n",
       "    </tr>\n",
       "  </thead>\n",
       "  <tbody>\n",
       "    <tr>\n",
       "      <td>0</td>\n",
       "      <td>1.128323e+07</td>\n",
       "      <td>8.040697e+06</td>\n",
       "      <td>1.120211e+07</td>\n",
       "      <td>1.008852</td>\n",
       "      <td>1.931398e+07</td>\n",
       "    </tr>\n",
       "    <tr>\n",
       "      <td>1</td>\n",
       "      <td>1.215464e+07</td>\n",
       "      <td>8.030754e+06</td>\n",
       "      <td>1.206726e+07</td>\n",
       "      <td>1.088112</td>\n",
       "      <td>2.080561e+07</td>\n",
       "    </tr>\n",
       "    <tr>\n",
       "      <td>2</td>\n",
       "      <td>1.097303e+07</td>\n",
       "      <td>8.650974e+06</td>\n",
       "      <td>1.089414e+07</td>\n",
       "      <td>0.911904</td>\n",
       "      <td>1.878300e+07</td>\n",
       "    </tr>\n",
       "    <tr>\n",
       "      <td>3</td>\n",
       "      <td>9.711635e+06</td>\n",
       "      <td>7.809971e+06</td>\n",
       "      <td>9.641815e+06</td>\n",
       "      <td>0.893986</td>\n",
       "      <td>1.662382e+07</td>\n",
       "    </tr>\n",
       "    <tr>\n",
       "      <td>4</td>\n",
       "      <td>9.245673e+06</td>\n",
       "      <td>6.912184e+06</td>\n",
       "      <td>9.179203e+06</td>\n",
       "      <td>0.961637</td>\n",
       "      <td>1.582621e+07</td>\n",
       "    </tr>\n",
       "  </tbody>\n",
       "</table>\n",
       "</div>"
      ],
      "text/plain": [
       "            c_t           k_t           w_t       r_t           y_t\n",
       "0  1.128323e+07  8.040697e+06  1.120211e+07  1.008852  1.931398e+07\n",
       "1  1.215464e+07  8.030754e+06  1.206726e+07  1.088112  2.080561e+07\n",
       "2  1.097303e+07  8.650974e+06  1.089414e+07  0.911904  1.878300e+07\n",
       "3  9.711635e+06  7.809971e+06  9.641815e+06  0.893986  1.662382e+07\n",
       "4  9.245673e+06  6.912184e+06  9.179203e+06  0.961637  1.582621e+07"
      ]
     },
     "execution_count": 3,
     "metadata": {},
     "output_type": "execute_result"
    }
   ],
   "source": [
    "data = np.loadtxt('NewMacroSeries.txt', delimiter = ',')\n",
    "c_t, k_t, w_t, r_t, y_t = np.loadtxt('NewMacroSeries.txt', unpack = 'True', delimiter = ',')\n",
    "df = pd.DataFrame(data, columns = ['c_t', 'k_t', 'w_t', 'r_t', 'y_t'])\n",
    "df.head()"
   ]
  },
  {
   "cell_type": "markdown",
   "metadata": {},
   "source": [
    "Six moments: \n",
    "* $m_1$ = mean($c_t$)\n",
    "* $m_2$ = mean($k_t$)\n",
    "* $m_3$ = mean($c_t/y_t$)\n",
    "* $m_4$ = var($y_t$)\n",
    "* $m_5$ = corr($c_t, c_{t-1}$)\n",
    "* $m_6$ = corr($c_t, k_t$)\n",
    "\n",
    "### (a) estimate ($\\alpha, \\rho, \\mu, \\sigma$) \n",
    "\n",
    "* step 1: generate simulated value for $z_{st} z_t = \\rho z_{t-1} + (1-\\rho)\\mu +\\varepsilon_t$\n",
    "* step 2: generate simulated value for $k_{t+1}=\\alpha \\beta e^{z_t}k_t^{\\alpha}$\n",
    "* step 3: generate simulated value for $w$ and $r$ $w_t = (1-\\alpha)e^{z_t}(k_t)^{\\alpha}, r_t = \\alpha e^{z_t}(k_t)^{\\alpha-1}$\n",
    "* step 4: generate simulated value for $c$ and $y$ $c_t=w_t+r_tk_t-k_{t+1}, y_t = e^{z_t}(k_t)^{\\alpha}$"
   ]
  },
  {
   "cell_type": "code",
   "execution_count": 4,
   "metadata": {},
   "outputs": [],
   "source": [
    "N = 100\n",
    "S = 1000\n",
    "beta = 0.99\n",
    "np.random.seed(25)\n",
    "unif_vals = sts.uniform.rvs(0,1, size = (N, S))"
   ]
  },
  {
   "cell_type": "code",
   "execution_count": 5,
   "metadata": {},
   "outputs": [],
   "source": [
    "# define a function to calculate autocorrelation coefficient\n",
    "def auto(x):\n",
    "    \n",
    "    x = pd.Series(x)\n",
    "    auto = x.autocorr(lag = 1)\n",
    "    \n",
    "    return auto\n",
    "\n",
    "def corr(x,y):\n",
    "   \n",
    "    x = pd.Series(x)\n",
    "    y = pd.Series(y)\n",
    "    corr = x.corr(y)\n",
    "    \n",
    "    return corr"
   ]
  },
  {
   "cell_type": "code",
   "execution_count": 6,
   "metadata": {},
   "outputs": [],
   "source": [
    "def data_moments(c_t, k_t, w_t, r_t, y_t):\n",
    "    \n",
    "    m1_data = c_t.mean()\n",
    "    m2_data = k_t.mean()\n",
    "    m3_data = np.mean(c_t/y_t)\n",
    "    m4_data = np.var(y_t)\n",
    "    m5_data = auto(c_t)    \n",
    "    m6_data = corr(c_t, k_t)\n",
    "    \n",
    "    return m1_data, m2_data, m3_data, m4_data, m5_data, m6_data"
   ]
  },
  {
   "cell_type": "code",
   "execution_count": 7,
   "metadata": {},
   "outputs": [
    {
     "name": "stdout",
     "output_type": "stream",
     "text": [
      "m1: mean(c_t) =  9281790.485669706\n",
      "m2: mean(k_t) =  6643985.138299068\n",
      "m3: mean(c_t/y_t) =  0.5842000000000002\n",
      "m4: var(y_t) =  28377825058899.727\n",
      "m5: corr(c_t, c_{t-1}) =  0.9405591814596135\n",
      "m6: corr(c_t, k_t) =  0.9408030537975822\n"
     ]
    }
   ],
   "source": [
    "m1_data, m2_data, m3_data, m4_data, m5_data, m6_data = data_moments(c_t, k_t, w_t, r_t, y_t)\n",
    "m_data = np.array([m1_data, m2_data, m3_data, m4_data, m5_data, m6_data])\n",
    "print('m1: mean(c_t) = ', m1_data)\n",
    "print('m2: mean(k_t) = ', m2_data)\n",
    "print('m3: mean(c_t/y_t) = ', m3_data)\n",
    "print('m4: var(y_t) = ', m4_data)\n",
    "print('m5: corr(c_t, c_{t-1}) = ', m5_data)\n",
    "print('m6: corr(c_t, k_t) = ', m6_data)"
   ]
  },
  {
   "cell_type": "code",
   "execution_count": 8,
   "metadata": {},
   "outputs": [],
   "source": [
    "def model_moments(unif_vals, c_t, k_t, w_t, r_t, y_t, alpha, rho, mu, sigma):\n",
    "    \n",
    "    # step1: generate simulated error term  \n",
    "    varepsilon = sts.norm.ppf(unif_vals, loc = 0, scale = sigma)\n",
    "    \n",
    "    # step2: generate simulated z_st\n",
    "    z_sim = np.zeros((N,S))\n",
    "    z_sim[0,:] = rho * mu + (1-rho) * mu + varepsilon[0,:]\n",
    "    for i in range(1,N):\n",
    "        z_sim[i: ] = rho * z_sim[i-1,:] + (1-rho)*mu + varepsilon[i:]\n",
    "        \n",
    "    # step3: generate simultaed k_st\n",
    "    k_sim_temp = np.zeros((N + 1, S))  \n",
    "    k_sim_temp[0, :] = k_t.mean()\n",
    "    for i in range(1, N + 1):\n",
    "        k_sim_temp[i, :] = alpha * beta * np.exp(z_sim[i - 1, :]) * k_sim_temp[i - 1, :] ** alpha\n",
    "    \n",
    "    k_sim = k_sim_temp[:-1, :]  \n",
    "    k_lead = k_sim_temp[1:, :]  \n",
    "    \n",
    "    # step4: generate simulated value for w_st, r_st\n",
    "    w_sim = np.zeros((N,S))\n",
    "    r_sim = np.zeros((N,S))\n",
    "    \n",
    "    for i in range(N):\n",
    "        w_sim[i, :] = (1 - alpha) * np.exp(z_sim[i, :]) * k_sim[i, :] ** alpha\n",
    "        r_sim[i, :] = alpha * np.exp(z_sim[i, :]) * (k_sim[i, :]) ** (alpha - 1)\n",
    "    \n",
    "    # step5: generate simulated value for c_st, y_st\n",
    "    c_sim = np.zeros((N,S))\n",
    "    y_sim = np.zeros((N,S))\n",
    "    for i in range(N):\n",
    "        c_sim[i, :] = w_sim[i, :] + r_sim[i, :] * k_sim[i, :] - k_lead[i, :]\n",
    "        y_sim[i, :] = np.exp(z_sim[i, :]) * (k_sim[i, :]) ** alpha\n",
    "    \n",
    "    # now that we have simulated all the data, we can calculate simulated model moments\n",
    "    \n",
    "    m1_model = c_sim.mean(axis=0)\n",
    "    m1_model = m1_model.mean()\n",
    "    \n",
    "    m2_model = k_sim.mean(axis=0)\n",
    "    m2_model = m2_model.mean()\n",
    "    \n",
    "    m3_model = np.mean((c_sim / y_sim), axis = 0)\n",
    "    m3_model = np.mean(m3_model)\n",
    "    \n",
    "    m4_model = np.var(y_sim, axis=0)\n",
    "    m4_model = m4_model.mean()\n",
    "        \n",
    "    m5 = [auto(c_sim[:,i]) for i in range(S)]  \n",
    "    m5_model = np.mean(m5)\n",
    "    \n",
    "    m6 = [corr(c_sim[:,i], k_sim[:,i]) for i in range(S)]\n",
    "    m6_model = np.mean(m6)\n",
    "    \n",
    "    return m1_model, m2_model, m3_model, m4_model, m5_model, m6_model "
   ]
  },
  {
   "cell_type": "code",
   "execution_count": 9,
   "metadata": {},
   "outputs": [],
   "source": [
    "def err_vec2(unif_vals, c_t, k_t, w_t, r_t, y_t, alpha, rho, mu, sigma, simple):\n",
    "    \n",
    "    dm1, dm2, dm3, dm4, dm5, dm6 = data_moments(c_t, k_t, w_t, r_t, y_t)\n",
    "    moms_data = np.array([[dm1], [dm2], [dm3], [dm4], [dm5], [dm6]])\n",
    "    m1_model, m2_model, m3_model, m4_model, m5_model, m6_model = model_moments(unif_vals, c_t, k_t, w_t, r_t, y_t, alpha, rho, mu, sigma)\n",
    "    m_model = np.array([m1_model, m2_model, m3_model, m4_model, m5_model, m6_model])\n",
    "    \n",
    "    if simple:\n",
    "        err_vec = m_model - m_data\n",
    "    else:\n",
    "        err_vec = (m_model - m_data) / m_data\n",
    "    \n",
    "    return err_vec\n",
    "\n",
    "def crit(params, *args):\n",
    "    \n",
    "    alpha, rho, mu, sigma = params\n",
    "    c_t, k_t, w_t, r_t, y_t, unif_vals, W = args\n",
    "    \n",
    "    err = err_vec2(unif_vals, c_t, k_t, w_t, r_t, y_t, alpha, rho, mu, sigma, simple = False)\n",
    "    crit_val = err.T @ W @ err\n",
    "    \n",
    "    return crit_val"
   ]
  },
  {
   "cell_type": "code",
   "execution_count": 10,
   "metadata": {},
   "outputs": [
    {
     "name": "stdout",
     "output_type": "stream",
     "text": [
      "params_0 =  [0.41931596 0.78817327 9.18135946 1.        ]\n"
     ]
    },
    {
     "data": {
      "text/plain": [
       "      fun: 2.9822133943014513\n",
       " hess_inv: <4x4 LbfgsInvHessProduct with dtype=float64>\n",
       "      jac: array([ 0.00071849,  0.00011751, -0.00228195, -0.00119376])\n",
       "  message: b'CONVERGENCE: REL_REDUCTION_OF_F_<=_FACTR*EPSMCH'\n",
       "     nfev: 145\n",
       "      nit: 15\n",
       "   status: 0\n",
       "  success: True\n",
       "        x: array([ 0.42400047, -0.8754591 ,  5.0524026 ,  0.0682687 ])"
      ]
     },
     "execution_count": 10,
     "metadata": {},
     "output_type": "execute_result"
    }
   ],
   "source": [
    "alpha_0 = k_t/(w_t + k_t)\n",
    "alpha_0 = alpha_0.mean()\n",
    "rho_0 = 0.7881732669300365 # from PS3\n",
    "mu_0 = 9.18135946009693\n",
    "sigma_0 = 1\n",
    "params_0 = np.array([alpha_0, rho_0, mu_0, sigma_0])\n",
    "W_0 = np.eye(6)\n",
    "smm_args = (c_t, k_t, w_t, r_t, y_t, unif_vals, W_0)\n",
    "print('params_0 = ', params_0)\n",
    "bnds = ((0.01, 0.99), (-0.99, 0.99), (5, 14), (0.01, 1.1))\n",
    "\n",
    "results_SMM = opt.minimize(crit, params_0, args = (smm_args), bounds = bnds, method = 'L-BFGS-B', tol = 1e-5)\n",
    "results_SMM"
   ]
  },
  {
   "cell_type": "code",
   "execution_count": 11,
   "metadata": {
    "scrolled": true
   },
   "outputs": [
    {
     "name": "stdout",
     "output_type": "stream",
     "text": [
      "theta =  [ 0.42400047 -0.8754591   5.0524026   0.0682687 ]\n",
      "Value of criterion function =  2.9822133943014513\n",
      "Moment difference at optimum =  [-9.27901398e+06 -6.57555102e+06 -3.96046804e-03 -2.83776825e+13\n",
      " -4.26584225e-04  5.37962263e-02]\n"
     ]
    }
   ],
   "source": [
    "alpha_smm,rho_smm, mu_smm, sigma_smm = results_SMM.x\n",
    "theta = np.array([alpha_smm, rho_smm, mu_smm, sigma_smm])\n",
    "crit_val = results_SMM.fun\n",
    "err_val = err_vec2(unif_vals, c_t, k_t, w_t, r_t, y_t, alpha_smm, rho_smm, mu_smm, sigma_smm, simple = True)\n",
    "print('theta = ', theta)\n",
    "print('Value of criterion function = ', crit_val)\n",
    "print('Moment difference at optimum = ', err_val)"
   ]
  },
  {
   "cell_type": "markdown",
   "metadata": {},
   "source": [
    "\\begin{equation}\n",
    "  d(\\tilde{x},x|\\theta) \\equiv\n",
    "    \\begin{bmatrix}\n",
    "      \\frac{\\partial e_1(\\tilde{x},x|\\theta)}{\\partial \\theta_1} & \\frac{\\partial e_1(\\tilde{x},x|\\theta)}{\\partial \\theta_2} & ... & \\frac{\\partial e_1(\\tilde{x},x|\\theta)}{\\partial \\theta_K} \\\\\n",
    "      \\frac{\\partial e_2(\\tilde{x},x|\\theta)}{\\partial \\theta_1} & \\frac{\\partial e_2(\\tilde{x},x|\\theta)}{\\partial \\theta_2} & ... & \\frac{\\partial e_2(\\tilde{x},x|\\theta)}{\\partial \\theta_K} \\\\\n",
    "      \\vdots & \\vdots & \\ddots & \\vdots \\\\\n",
    "      \\frac{\\partial e_R(\\tilde{x},x|\\theta)}{\\partial \\theta_1} & \\frac{\\partial e_R(\\tilde{x},x|\\theta)}{\\partial \\theta_2} & ... & \\frac{\\partial e_R(x|\\theta)}{\\partial \\theta_K}\n",
    "    \\end{bmatrix}\n",
    "\\end{equation}\n",
    "\n",
    "\\begin{equation}\n",
    "  \\hat{\\Sigma}_{SMM} = \\frac{1}{S}\\left[d(\\tilde{x},x|\\theta)^T W d(\\tilde{x},x|\\theta)\\right]^{-1}\n",
    "\\end{equation}"
   ]
  },
  {
   "cell_type": "code",
   "execution_count": 14,
   "metadata": {},
   "outputs": [],
   "source": [
    "def Jac_err(unif_vals, c_t, k_t, w_t, r_t, y_t, alpha, rho, mu, sigma, simple):\n",
    "    \n",
    "    R = 6 \n",
    "    K = 4\n",
    "    Jac = np.zeros((6, 4))\n",
    "    \n",
    "    h_alpha = 1e-4 * alpha\n",
    "    h_rho = 1e-4 * rho\n",
    "    h_mu = 1e-4 * mu\n",
    "    h_sigma = 1e-4 * sigma\n",
    "    \n",
    "    Jac[:, 0] = ((err_vec2(unif_vals, c_t, k_t, w_t, r_t, y_t, alpha + h_alpha, rho, mu, sigma, simple))- (err_vec2(unif_vals, c_t, k_t, w_t, r_t, y_t, alpha - h_alpha, rho, mu, sigma, simple))) / (2 * h_alpha).flatten() \n",
    "    Jac[:, 1] = ((err_vec2(unif_vals, c_t, k_t, w_t, r_t, y_t, alpha, rho + h_rho, mu, sigma, simple))- (err_vec2(unif_vals, c_t, k_t, w_t, r_t, y_t, alpha, rho - h_rho, mu, sigma, simple))) / (2 * h_rho).flatten()\n",
    "    Jac[:, 2] = ((err_vec2(unif_vals, c_t, k_t, w_t, r_t, y_t, alpha, rho, mu + h_mu, sigma, simple))- (err_vec2(unif_vals, c_t, k_t, w_t, r_t, y_t, alpha, rho, mu - h_mu, sigma, simple))) / (2 * h_mu).flatten()\n",
    "    Jac[:, 3] = ((err_vec2(unif_vals, c_t, k_t, w_t, r_t, y_t, alpha, rho, mu, sigma + h_sigma, simple))- (err_vec2(unif_vals, c_t, k_t, w_t, r_t, y_t, alpha, rho, mu, sigma - h_sigma, simple))) / (2 * h_sigma).flatten() \n",
    "        \n",
    "    return Jac"
   ]
  },
  {
   "cell_type": "code",
   "execution_count": 15,
   "metadata": {},
   "outputs": [
    {
     "name": "stdout",
     "output_type": "stream",
     "text": [
      "Std of alpha =  0.018660629970650804\n",
      "Std of rho =  158.04869285234219\n",
      "Std of mu =  49.37984838522423\n",
      "Std of sigma =  34.98382611758998\n"
     ]
    }
   ],
   "source": [
    "err = Jac_err(unif_vals, c_t, k_t, w_t, r_t, y_t, alpha_smm, rho_smm, mu_smm, sigma_smm, simple = False)\n",
    "SigHat = (1 / 1000) * lin.inv(err.T @ W_0 @ err)\n",
    "\n",
    "print('Std of alpha = ', np.sqrt(SigHat[0,0]))\n",
    "print('Std of rho = ', np.sqrt(SigHat[1,1]))\n",
    "print('Std of mu = ', np.sqrt(SigHat[2,2]))\n",
    "print('Std of sigma = ', np.sqrt(SigHat[3,3]))"
   ]
  },
  {
   "cell_type": "markdown",
   "metadata": {},
   "source": [
    "### (b) Two step SMM"
   ]
  },
  {
   "cell_type": "markdown",
   "metadata": {},
   "source": [
    "$$ E(\\tilde{x},x|\\theta) =\n",
    "  \\begin{bmatrix}\n",
    "    \\frac{m_1(\\tilde{x}_1|\\theta) - m_1(x)}{m_1(x)} & \\frac{m_1(\\tilde{x}_2|\\theta) - m_1(x)}{m_1(x)} & ... & \\frac{m_1(\\tilde{x}_S|\\theta) - m_1(x)}{m_1(x)} \\\\\n",
    "    \\frac{m_2(\\tilde{x}_1|\\theta) - m_2(x)}{m_2(x)} & \\frac{m_2(\\tilde{x}_2|\\theta) - m_2(x)}{m_2(x)} & ... & \\frac{m_2(\\tilde{x}_S|\\theta) - m_2(x)}{m_2(x)} \\\\\n",
    "    \\vdots & \\vdots & \\ddots & \\vdots \\\\\n",
    "    \\frac{m_R(\\tilde{x}_1|\\theta) - m_R(x)}{m_R(x)} & \\frac{m_R(\\tilde{x}_2|\\theta) - m_R(x)}{m_R(x)} & ... & \\frac{m_R(\\tilde{x}_S|\\theta) - m_R(x)}{m_R(x)} \\\\\n",
    "  \\end{bmatrix} $$\n",
    "\n",
    "$$ \\hat{\\Omega}_2 = \\frac{1}{S}E(\\tilde{x},x|\\hat{\\theta}_{1,SMM})\\,E(\\tilde{x},x|\\hat{\\theta}_{1,SMM})^T $$"
   ]
  },
  {
   "cell_type": "code",
   "execution_count": 16,
   "metadata": {},
   "outputs": [],
   "source": [
    "def get_err_mat(unif_vals, c_t, k_t, w_t, r_t, y_t, alpha, rho, mu, sigma, simple = False):\n",
    "    \n",
    "    R = 6\n",
    "    S = 1000\n",
    "    err_mat = np.zeros((R,S))\n",
    "    m1_data, m2_data, m3_data, m4_data, m5_data, m6_data = data_moments(c_t, k_t, w_t, r_t, y_t)\n",
    "    m_data = np.array([m1_data, m2_data, m3_data, m4_data, m5_data, m6_data])\n",
    "    \n",
    "    m1_model, m2_model, m3_model, m4_model, m5_model, m6_model = model_moments(unif_vals, c_t, k_t, w_t, r_t, y_t, alpha, rho, mu, sigma)\n",
    "    m_model = np.array([m1_model, m2_model, m3_model, m4_model, m5_model, m6_model])\n",
    "    \n",
    "    if simple:\n",
    "        err_mat[0,:] = m1_model - m1_data\n",
    "        err_mat[1,:] = m2_model - m2_data\n",
    "        err_mat[2,:] = m3_model - m3_data\n",
    "        err_mat[3,:] = m4_model - m4_data\n",
    "        err_mat[4,:] = m5_model - m5_data\n",
    "        err_mat[5,:] = m6_model - m6_data\n",
    "    else:\n",
    "        err_mat[0,:] = (m1_model - m1_data)/m1_data\n",
    "        err_mat[1,:] = (m2_model - m2_data)/m2_data\n",
    "        err_mat[2,:] = (m3_model - m3_data)/m3_data\n",
    "        err_mat[3,:] = (m4_model - m4_data)/m4_data\n",
    "        err_mat[4,:] = (m5_model - m5_data)/m5_data\n",
    "        err_mat[5,:] = (m6_model - m6_data)/m6_data\n",
    "    \n",
    "    return err_mat"
   ]
  },
  {
   "cell_type": "code",
   "execution_count": 17,
   "metadata": {},
   "outputs": [
    {
     "name": "stdout",
     "output_type": "stream",
     "text": [
      "[[ 9.99401820e-01  9.89403785e-01  6.77727375e-03  9.99695842e-01\n",
      "   4.53407533e-04 -5.71640725e-02]\n",
      " [ 9.89403785e-01  9.79505771e-01  6.70947378e-03  9.89694867e-01\n",
      "   4.48871636e-04 -5.65922020e-02]\n",
      " [ 6.77727375e-03  6.70947378e-03  4.59589312e-05  6.77926761e-03\n",
      "   3.07470620e-06 -3.87648452e-04]\n",
      " [ 9.99695842e-01  9.89694867e-01  6.77926761e-03  9.99989952e-01\n",
      "   4.53540925e-04 -5.71808901e-02]\n",
      " [ 4.53407533e-04  4.48871636e-04  3.07470620e-06  4.53540925e-04\n",
      "   2.05701438e-07 -2.59341344e-05]\n",
      " [-5.71640725e-02 -5.65922020e-02 -3.87648452e-04 -5.71808901e-02\n",
      "  -2.59341344e-05  3.26968705e-03]]\n",
      "[[-4.34901464e+14  1.33707365e+14 -9.49972572e+16  3.03848195e+14\n",
      "   8.39868067e+17 -4.57656115e+15]\n",
      " [ 1.34431993e+14 -2.27961533e+13 -2.75019778e+15  3.79291499e+11\n",
      "  -2.76332318e+17 -5.55486026e+14]\n",
      " [-9.59165428e+16 -2.62585344e+15 -8.85221986e+18  2.92362460e+16\n",
      "   1.14856412e+20 -1.34957141e+18]\n",
      " [ 3.17053040e+14 -3.17417535e+12  3.14783648e+16  8.87896346e+13\n",
      "  -6.71571075e+17  5.44621070e+15]\n",
      " [ 8.27019804e+17 -2.70982831e+17  1.10274619e+20 -6.37093728e+17\n",
      "  -2.52859832e+20  9.69536305e+18]\n",
      " [-4.54398773e+15 -5.73125913e+14 -1.33278243e+18  5.28449556e+15\n",
      "   9.76766330e+18 -7.74845702e+16]]\n"
     ]
    }
   ],
   "source": [
    "err_mat = get_err_mat(unif_vals, c_t, k_t, w_t, r_t, y_t, alpha_smm, rho_smm, mu_smm, sigma_smm, simple = False)\n",
    "VCV2 = (1/ S) * (err_mat @ err_mat.T)\n",
    "print(VCV2)\n",
    "W_2step = lin.inv(VCV2)\n",
    "print(W_2step)\n",
    "smm_args_2s = (c_t, k_t, w_t, r_t, y_t, unif_vals, W_2step)\n",
    "params_2s = ([alpha_smm,rho_smm, mu_smm, sigma_smm])"
   ]
  },
  {
   "cell_type": "code",
   "execution_count": 18,
   "metadata": {},
   "outputs": [
    {
     "data": {
      "text/plain": [
       "      fun: -1.2956691176738655e+21\n",
       " hess_inv: <4x4 LbfgsInvHessProduct with dtype=float64>\n",
       "      jac: array([ 3.07644987e+21,  9.93183295e+20, -1.54478838e+18, -1.81469184e+18])\n",
       "  message: b'CONVERGENCE: REL_REDUCTION_OF_F_<=_FACTR*EPSMCH'\n",
       "     nfev: 50\n",
       "      nit: 9\n",
       "   status: 0\n",
       "  success: True\n",
       "        x: array([ 0.01      , -0.99      ,  5.01650806,  0.02783095])"
      ]
     },
     "execution_count": 18,
     "metadata": {},
     "output_type": "execute_result"
    }
   ],
   "source": [
    "results_SMM_2s = opt.minimize(crit, params_0, args = (smm_args_2s), bounds = bnds, method = 'L-BFGS-B', tol = 1e-5)\n",
    "results_SMM_2s"
   ]
  },
  {
   "cell_type": "code",
   "execution_count": 25,
   "metadata": {},
   "outputs": [
    {
     "name": "stdout",
     "output_type": "stream",
     "text": [
      "theta =  [ 0.01       -0.99        5.01650806  0.02783095]\n",
      "Value of criterion function =  -1.2956691176738655e+21\n",
      "Moment difference at optimum =  [-0.99998364 -0.98999977  0.6947963  -1.         -2.00125476 -0.84965885]\n"
     ]
    }
   ],
   "source": [
    "alpha_smm_2s,rho_smm_2s, mu_smm_2s, sigma_smm_2s = results_SMM_2s.x\n",
    "theta_2s = np.array([alpha_smm_2s,rho_smm_2s, mu_smm_2s, sigma_smm_2s])\n",
    "crit_2s = results_SMM_2s.fun\n",
    "err_val_2s = err_vec2(unif_vals, c_t, k_t, w_t, r_t, y_t, alpha_smm_2s,rho_smm_2s, mu_smm_2s, sigma_smm_2s, simple = False)\n",
    "print('theta = ', theta_2s)\n",
    "print('Value of criterion function = ', crit_2s)\n",
    "print('Moment difference at optimum = ', err_val_2s)\n",
    "err_2s = Jac_err(unif_vals, c_t, k_t, w_t, r_t, y_t, alpha_smm_2s, rho_smm_2s, mu_smm_2s, sigma_smm_2s, simple = False)\n",
    "SigHat2 = (1 / S) * lin.inv(err_2s.T @ W_2step @ err_2s)"
   ]
  }
 ],
 "metadata": {
  "kernelspec": {
   "display_name": "Python 3",
   "language": "python",
   "name": "python3"
  },
  "language_info": {
   "codemirror_mode": {
    "name": "ipython",
    "version": 3
   },
   "file_extension": ".py",
   "mimetype": "text/x-python",
   "name": "python",
   "nbconvert_exporter": "python",
   "pygments_lexer": "ipython3",
   "version": "3.7.4"
  }
 },
 "nbformat": 4,
 "nbformat_minor": 2
}
