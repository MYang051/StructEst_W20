{
 "cells": [
  {
   "cell_type": "markdown",
   "metadata": {},
   "source": [
    "# Structural Estimation _ PS2\n",
    "\n",
    "Author: Meng Yang 12245345\n",
    "\n",
    "Date: 2020-01-20\n",
    "\n",
    "## 1. Health Claim Amounts and the GB family of distributions\n",
    "\n",
    "### a. Data Description and Histogram"
   ]
  },
  {
   "cell_type": "code",
   "execution_count": 1,
   "metadata": {},
   "outputs": [],
   "source": [
    "import numpy as np \n",
    "import pandas as pd\n",
    "from pandas import DataFrame, Series\n",
    "import matplotlib.pyplot as plt\n",
    "%matplotlib notebook\n",
    "import scipy.stats as sts\n",
    "import scipy.optimize as opt\n",
    "import scipy.integrate as integrate\n",
    "import scipy.special as spc\n",
    "import math \n",
    "\n",
    "import distributions as dst"
   ]
  },
  {
   "cell_type": "code",
   "execution_count": 2,
   "metadata": {},
   "outputs": [],
   "source": [
    "claims = np.loadtxt('clms.txt', dtype = np.float)\n",
    "obs = len(claims)"
   ]
  },
  {
   "cell_type": "code",
   "execution_count": 3,
   "metadata": {},
   "outputs": [
    {
     "name": "stdout",
     "output_type": "stream",
     "text": [
      "mean =  720.2779753272437\n",
      "median =  172.21\n",
      "maximum =  227967.25\n",
      "minimum =  0.01\n",
      "std =  3972.663756393663\n"
     ]
    }
   ],
   "source": [
    "print('mean = ', np.mean(claims))\n",
    "print('median = ', np.median(claims))\n",
    "print('maximum = ', np.max(claims))\n",
    "print('minimum = ', np.min(claims))\n",
    "print('std = ', np.std(claims))"
   ]
  },
  {
   "cell_type": "code",
   "execution_count": 4,
   "metadata": {},
   "outputs": [
    {
     "data": {
      "text/plain": [
       "(0, 227967.25)"
      ]
     },
     "execution_count": 4,
     "metadata": {},
     "output_type": "execute_result"
    },
    {
     "data": {
      "image/png": "[encoded data removed]",
      "text/plain": [
       "<Figure size 432x288 with 1 Axes>"
      ]
     },
     "metadata": {
      "needs_background": "light"
     },
     "output_type": "display_data"
    }
   ],
   "source": [
    "weight = (1/obs) * np.ones_like(claims)\n",
    "n, bins, ignored = plt.hist(claims, 1000, weights = weight, color = 'k')\n",
    "plt.title ('Health Claims', fontsize = 15)\n",
    "plt.xlabel ('Monthly Health Expenditures ($)')\n",
    "plt.ylabel ('Percent of Observations')\n",
    "plt.xlim([0, np.max(claims)])"
   ]
  },
  {
   "cell_type": "code",
   "execution_count": 5,
   "metadata": {},
   "outputs": [
    {
     "data": {
      "text/plain": [
       "1.0000000000000322"
      ]
     },
     "execution_count": 5,
     "metadata": {},
     "output_type": "execute_result"
    }
   ],
   "source": [
    "n.sum()"
   ]
  },
  {
   "cell_type": "code",
   "execution_count": 6,
   "metadata": {},
   "outputs": [
    {
     "data": {
      "text/plain": [
       "(0, 800)"
      ]
     },
     "execution_count": 6,
     "metadata": {},
     "output_type": "execute_result"
    },
    {
     "data": {
      "image/png": "[encoded data removed]",
      "text/plain": [
       "<Figure size 432x288 with 1 Axes>"
      ]
     },
     "metadata": {
      "needs_background": "light"
     },
     "output_type": "display_data"
    }
   ],
   "source": [
    "claims_new = claims[claims <= 800]\n",
    "weight_new = (1/len(claims)) * np.ones_like(claims_new)\n",
    "m, bins, ignored = plt.hist(claims_new, 100, weights = weight_new, color = 'navy', edgecolor = 'black')\n",
    "plt.title ('Health Claims (<= 800)', fontsize = 15)\n",
    "plt.xlabel ('Monthly Health Expenditures ($)')\n",
    "plt.ylabel ('Percent of Observations')\n",
    "plt.xlim([0, 800])"
   ]
  },
  {
   "cell_type": "code",
   "execution_count": 7,
   "metadata": {},
   "outputs": [
    {
     "data": {
      "text/plain": [
       "0.8494208494208465"
      ]
     },
     "execution_count": 7,
     "metadata": {},
     "output_type": "execute_result"
    }
   ],
   "source": [
    "m.sum()"
   ]
  },
  {
   "cell_type": "markdown",
   "metadata": {},
   "source": [
    "Prefer the second figure since we can see the distribution pattern more clearly from the second graph."
   ]
  },
  {
   "cell_type": "markdown",
   "metadata": {},
   "source": [
    "### b. MLE with gamma distribution "
   ]
  },
  {
   "cell_type": "markdown",
   "metadata": {},
   "source": [
    "$$ \\text{(GA):}\\quad f(x;\\alpha,\\beta) = \\frac{1}{\\beta^\\alpha \\Gamma(\\alpha)}x^{\\alpha-1}e^{-\\frac{x}{\\beta}},\\quad x\\in[0,\\infty), \\:\\alpha,\\beta>0 $$\n",
    "\n",
    "$$ \\text{where}\\quad \\Gamma(z)\\equiv\\int_0^\\infty t^{z-1}e^{-t}dt $$"
   ]
  },
  {
   "cell_type": "code",
   "execution_count": 8,
   "metadata": {},
   "outputs": [],
   "source": [
    "def log_lik_GA(xvals, alpha, beta):\n",
    "    pdf_vals = dst.GA_pdf(xvals, alpha, beta)\n",
    "    log_pdf_vals = np.log(pdf_vals)\n",
    "    log_lik_vals = log_pdf_vals.sum()\n",
    "    \n",
    "    return log_lik_vals\n",
    "\n",
    "def crit_GA(params, *args):\n",
    "    alpha, beta = params\n",
    "    xvals, = args\n",
    "    log_lik_val = log_lik_GA(xvals, alpha, beta)\n",
    "    neg_log_lik = - log_lik_val\n",
    "    \n",
    "    return neg_log_lik"
   ]
  },
  {
   "cell_type": "code",
   "execution_count": 9,
   "metadata": {},
   "outputs": [],
   "source": [
    "beta_0 = np.var(claims) / np.mean(claims)\n",
    "alpha_0 = np.mean(claims) / beta_0\n",
    "params_0 = np.array([alpha_0, beta_0])\n",
    "mle_args = (claims)\n",
    "bnds = ((1e-10, None), (1e-10, None))"
   ]
  },
  {
   "cell_type": "code",
   "execution_count": 10,
   "metadata": {},
   "outputs": [
    {
     "data": {
      "text/plain": [
       "      fun: 82076.45160566256\n",
       " hess_inv: <2x2 LbfgsInvHessProduct with dtype=float64>\n",
       "      jac: array([0.        , 0.09022187])\n",
       "  message: b'CONVERGENCE: REL_REDUCTION_OF_F_<=_FACTR*EPSMCH'\n",
       "     nfev: 33\n",
       "      nit: 8\n",
       "   status: 0\n",
       "  success: True\n",
       "        x: array([2.21755323e-01, 2.19110647e+04])"
      ]
     },
     "execution_count": 10,
     "metadata": {},
     "output_type": "execute_result"
    }
   ],
   "source": [
    "results_GA_cstr = opt.minimize(crit_GA, params_0, args = mle_args, method = 'L-BFGS-B', bounds = bnds)\n",
    "results_GA_cstr"
   ]
  },
  {
   "cell_type": "code",
   "execution_count": 11,
   "metadata": {},
   "outputs": [
    {
     "name": "stdout",
     "output_type": "stream",
     "text": [
      "alpha_MLE_GA =  0.22175532272679777\n",
      "beta_MLE_GA =  21911.064699249375\n",
      "Maximize Log Likelihood_GA =  -82076.45160566256\n"
     ]
    }
   ],
   "source": [
    "alpha_MLE_GA, beta_MLE_GA = results_GA_cstr.x\n",
    "log_lik_MLE_GA = log_lik_GA(claims, alpha_MLE_GA, beta_MLE_GA) \n",
    "print('alpha_MLE_GA = ', alpha_MLE_GA)\n",
    "print('beta_MLE_GA = ', beta_MLE_GA)\n",
    "print('Maximize Log Likelihood_GA = ', log_lik_MLE_GA)"
   ]
  },
  {
   "cell_type": "code",
   "execution_count": 12,
   "metadata": {},
   "outputs": [
    {
     "data": {
      "text/plain": [
       "<matplotlib.legend.Legend at 0x1a197c4450>"
      ]
     },
     "execution_count": 12,
     "metadata": {},
     "output_type": "execute_result"
    },
    {
     "data": {
      "image/png": "[encoded data removed]",
      "text/plain": [
       "<Figure size 432x288 with 1 Axes>"
      ]
     },
     "metadata": {
      "needs_background": "light"
     },
     "output_type": "display_data"
    }
   ],
   "source": [
    "n, bins, ignored = plt.hist(claims_new, 100, weights = weight_new, color = 'navy', edgecolor = 'black')\n",
    "plt.title ('Health Claims (<= 800)', fontsize = 15)\n",
    "plt.xlabel ('Monthly Health Expenditures ($)')\n",
    "plt.ylabel ('Percent of Observations')\n",
    "plt.xlim([0, 800])\n",
    "plt.ylim([0, 0.04])\n",
    "\n",
    "dist_pts = np.linspace(1e-10, 800, len(claims))\n",
    "plt.plot(dist_pts, dst.GA_pdf(dist_pts, alpha_MLE_GA, beta_MLE_GA), linewidth = 2, color = 'blue', label = 'GA (alpha = 0.22, beta = 21911.06)')\n",
    "plt.legend(loc = 'upper right')"
   ]
  },
  {
   "cell_type": "markdown",
   "metadata": {},
   "source": [
    "### c. MLE with generalized gamma distribution \n",
    "$$ \\text{(GG):}\\quad f(x;\\alpha,\\beta,m) = \\frac{m}{\\beta^\\alpha \\Gamma\\left(\\frac{\\alpha}{m}\\right)}x^{\\alpha-1}e^{-\\left(\\frac{x}{\\beta}\\right)^m},\\quad x\\in[0,\\infty), \\:\\alpha,\\beta,m>0 $$\n",
    "\n",
    "$$ \\text{where}\\quad \\Gamma(z)\\equiv\\int_0^\\infty t^{z-1}e^{-t}dt $$"
   ]
  },
  {
   "cell_type": "code",
   "execution_count": 13,
   "metadata": {},
   "outputs": [],
   "source": [
    "def log_lik_GG(xvals, alpha, beta, m):\n",
    "    pdf_vals = dst.GG_pdf(xvals, alpha, beta, m)\n",
    "    log_pdf_vals = np.log(pdf_vals)\n",
    "    log_lik_vals = log_pdf_vals.sum()\n",
    "    \n",
    "    return log_lik_vals\n",
    "\n",
    "def crit_GG(params, *args):\n",
    "    alpha, beta, m = params\n",
    "    xvals, = args\n",
    "    log_lik_val = log_lik_GG(xvals, alpha, beta, m)\n",
    "    neg_log_lik = - log_lik_val\n",
    "\n",
    "    return neg_log_lik"
   ]
  },
  {
   "cell_type": "code",
   "execution_count": 14,
   "metadata": {},
   "outputs": [],
   "source": [
    "alpha_0 = alpha_MLE_GA\n",
    "beta_0 = beta_MLE_GA\n",
    "m_0 = 1\n",
    "params_0 = np.array([alpha_0, beta_0, m_0])\n",
    "bnds = ((1e-10, None), (1e-10, None), (1e-10, None))"
   ]
  },
  {
   "cell_type": "code",
   "execution_count": 15,
   "metadata": {},
   "outputs": [
    {
     "data": {
      "text/plain": [
       "      fun: 82076.44679085154\n",
       " hess_inv: <3x3 LbfgsInvHessProduct with dtype=float64>\n",
       "      jac: array([-3.65544111,  0.09022187, -1.04482751])\n",
       "  message: b'CONVERGENCE: REL_REDUCTION_OF_F_<=_FACTR*EPSMCH'\n",
       "     nfev: 24\n",
       "      nit: 2\n",
       "   status: 0\n",
       "  success: True\n",
       "        x: array([2.21737618e-01, 2.19110644e+04, 9.97091564e-01])"
      ]
     },
     "execution_count": 15,
     "metadata": {},
     "output_type": "execute_result"
    }
   ],
   "source": [
    "results_GG_cstr = opt.minimize(crit_GG, params_0, args = mle_args, method = 'L-BFGS-B', bounds = bnds)\n",
    "results_GG_cstr"
   ]
  },
  {
   "cell_type": "code",
   "execution_count": 16,
   "metadata": {},
   "outputs": [
    {
     "name": "stdout",
     "output_type": "stream",
     "text": [
      "alpha_MLE_GG =  0.22173761759457977\n",
      "beta_MLE_GG =  21911.064431816903\n",
      "m_MLE_GG =  0.9970915637772736\n",
      "Maximize Log Likelihood_GG =  -82076.44679085154\n"
     ]
    }
   ],
   "source": [
    "alpha_MLE_GG, beta_MLE_GG, m_MLE_GG = results_GG_cstr.x\n",
    "log_lik_MLE_GG = log_lik_GG(claims, alpha_MLE_GG, beta_MLE_GG, m_MLE_GG) \n",
    "print('alpha_MLE_GG = ', alpha_MLE_GG)\n",
    "print('beta_MLE_GG = ', beta_MLE_GG)\n",
    "print('m_MLE_GG = ', m_MLE_GG)\n",
    "print('Maximize Log Likelihood_GG = ', log_lik_MLE_GG)"
   ]
  },
  {
   "cell_type": "code",
   "execution_count": 17,
   "metadata": {
    "scrolled": false
   },
   "outputs": [
    {
     "data": {
      "text/plain": [
       "<matplotlib.legend.Legend at 0x1a197c4e10>"
      ]
     },
     "execution_count": 17,
     "metadata": {},
     "output_type": "execute_result"
    },
    {
     "data": {
      "image/png": "[encoded data removed]",
      "text/plain": [
       "<Figure size 432x288 with 1 Axes>"
      ]
     },
     "metadata": {
      "needs_background": "light"
     },
     "output_type": "display_data"
    }
   ],
   "source": [
    "n, bins, ignored = plt.hist(claims_new, 100, weights = weight_new, color = 'navy', edgecolor = 'black')\n",
    "plt.title ('Health Claims (<= 800)', fontsize = 15)\n",
    "plt.xlabel ('Monthly Health Expenditures ($)')\n",
    "plt.ylabel ('Percent of Observations')\n",
    "plt.xlim([0, 800])\n",
    "plt.ylim([0, 0.04])\n",
    "\n",
    "dist_pts = np.linspace(1e-10, 800, len(claims))\n",
    "plt.plot(dist_pts, dst.GG_pdf(dist_pts, alpha_MLE_GG, beta_MLE_GG, m_MLE_GG), linewidth = 2,\n",
    "         color = 'y', label = 'GG (alpha = 0.22, beta = 21911.06, m = 0.99)')\n",
    "plt.legend(loc = 'upper right')"
   ]
  },
  {
   "cell_type": "markdown",
   "metadata": {},
   "source": [
    "### d. MLE with generalized beta 2 distribution \n",
    "$$ \\text{(GB2):}\\quad f(x;a,b,p,q) = \\frac{a x^{ap-1}}{b^{ap}B(p,q)\\left(1 + \\left(\\frac{x}{b}\\right)^a\\right)^{p+q}},\\quad x\\in[0,\\infty), \\:a,b,p,q>0 $$\n",
    "\n",
    "$$ \\quad\\text{where}\\quad B(v,w)\\equiv\\int_0^1 t^{v-1}(1-t)^{w-1}dt $$"
   ]
  },
  {
   "cell_type": "code",
   "execution_count": 18,
   "metadata": {},
   "outputs": [],
   "source": [
    "def log_lik_GB2(xvals, a, b, p, q):\n",
    "    pdf_vals = dst.GB2_pdf(xvals, a, b, p, q)\n",
    "    log_pdf_vals = np.log(pdf_vals)\n",
    "    log_lik_vals = log_pdf_vals.sum()\n",
    "        \n",
    "    return log_lik_vals\n",
    "\n",
    "def crit_GB2(params, *args):\n",
    "    a, b, p, q = params\n",
    "    xvals, = args\n",
    "    log_lik_val = log_lik_GB2(xvals, a, b, p, q)\n",
    "    neg_log_lik = - log_lik_val\n",
    " \n",
    "    return neg_log_lik"
   ]
  },
  {
   "cell_type": "code",
   "execution_count": 19,
   "metadata": {},
   "outputs": [],
   "source": [
    "a_0 = alpha_MLE_GG\n",
    "b_0 = beta_MLE_GG\n",
    "p_0 = m_MLE_GG\n",
    "q_0 = 10000\n",
    "params_0 = np.array([a_0, b_0, p_0, q_0])\n",
    "bnds = ((1e-10, None), (1e-10, None), (1e-10, None), (1e-10, 94))"
   ]
  },
  {
   "cell_type": "code",
   "execution_count": 20,
   "metadata": {},
   "outputs": [
    {
     "data": {
      "text/plain": [
       "      fun: 74862.20981500167\n",
       " hess_inv: <4x4 LbfgsInvHessProduct with dtype=float64>\n",
       "      jac: array([-0.858563  ,  0.00145519, -0.39290171,  0.22700988])\n",
       "  message: b'CONVERGENCE: REL_REDUCTION_OF_F_<=_FACTR*EPSMCH'\n",
       "     nfev: 775\n",
       "      nit: 93\n",
       "   status: 0\n",
       "  success: True\n",
       "        x: array([1.13363453e-01, 2.19248579e+04, 5.49314731e+01, 9.39999987e+01])"
      ]
     },
     "execution_count": 20,
     "metadata": {},
     "output_type": "execute_result"
    }
   ],
   "source": [
    "results_GB2_cstr = opt.minimize(crit_GB2, params_0, args= mle_args, method=\"L-BFGS-B\", bounds = bnds)\n",
    "results_GB2_cstr"
   ]
  },
  {
   "cell_type": "code",
   "execution_count": 21,
   "metadata": {},
   "outputs": [
    {
     "name": "stdout",
     "output_type": "stream",
     "text": [
      "a_MLE_GB2 =  0.11336345283229907\n",
      "b_MLE_GB2 =  21924.857878335693\n",
      "p_MLE_GB2 =  54.931473132850776\n",
      "q_MLE_GB2 =  93.99999870055183\n",
      "Maximize Log Likelihood_GB2 =  -74862.20981500167\n"
     ]
    }
   ],
   "source": [
    "a_MLE_GB2, b_MLE_GB2, p_MLE_GB2, q_MLE_GB2 = results_GB2_cstr.x\n",
    "log_lik_MLE_GB2 = log_lik_GB2(claims, a_MLE_GB2, b_MLE_GB2, p_MLE_GB2,  q_MLE_GB2) \n",
    "print('a_MLE_GB2 = ', a_MLE_GB2)\n",
    "print('b_MLE_GB2 = ', b_MLE_GB2)\n",
    "print('p_MLE_GB2 = ', p_MLE_GB2)\n",
    "print('q_MLE_GB2 = ', q_MLE_GB2)\n",
    "print('Maximize Log Likelihood_GB2 = ', log_lik_MLE_GB2)"
   ]
  },
  {
   "cell_type": "code",
   "execution_count": 22,
   "metadata": {},
   "outputs": [
    {
     "data": {
      "text/plain": [
       "<matplotlib.legend.Legend at 0x1a19a85690>"
      ]
     },
     "execution_count": 22,
     "metadata": {},
     "output_type": "execute_result"
    },
    {
     "data": {
      "image/png": "[encoded data removed]",
      "text/plain": [
       "<Figure size 432x288 with 1 Axes>"
      ]
     },
     "metadata": {
      "needs_background": "light"
     },
     "output_type": "display_data"
    }
   ],
   "source": [
    "n, bins, ignored = plt.hist(claims_new, 100, weights = weight_new, color = 'navy', edgecolor = 'black')\n",
    "plt.title ('Health Claims (<= 800)', fontsize = 15)\n",
    "plt.xlabel ('Monthly Health Expenditures ($)')\n",
    "plt.ylabel ('Percent of Observations')\n",
    "plt.xlim([0, 800])\n",
    "plt.ylim([0, 0.04])\n",
    "\n",
    "dist_pts = np.linspace(1e-10, 800, len(claims))\n",
    "plt.plot(dist_pts, dst.GB2_pdf(dist_pts, a_MLE_GB2, b_MLE_GB2, p_MLE_GB2, q_MLE_GB2), linewidth = 2,\n",
    "         color = 'r', label = 'GB2 (a= 0.11, b=21924.86, =54.93, q=94.00)')\n",
    "plt.legend(loc = 'upper right')"
   ]
  },
  {
   "cell_type": "code",
   "execution_count": 23,
   "metadata": {},
   "outputs": [
    {
     "data": {
      "text/plain": [
       "<matplotlib.legend.Legend at 0x1a19d980d0>"
      ]
     },
     "execution_count": 23,
     "metadata": {},
     "output_type": "execute_result"
    },
    {
     "data": {
      "image/png": "[encoded data removed]",
      "text/plain": [
       "<Figure size 432x288 with 1 Axes>"
      ]
     },
     "metadata": {
      "needs_background": "light"
     },
     "output_type": "display_data"
    }
   ],
   "source": [
    "n, bins, ignored = plt.hist(claims_new, 100, weights = weight_new, color = 'navy', edgecolor = 'black')\n",
    "plt.title ('Health Claims (<= 800)', fontsize = 15)\n",
    "plt.xlabel ('Monthly Health Expenditures ($)')\n",
    "plt.ylabel ('Percent of Observations')\n",
    "plt.xlim([0, 800])\n",
    "plt.ylim([0, 0.04])\n",
    "\n",
    "dist_pts = np.linspace(1e-10, 800, len(claims))\n",
    "plt.plot(dist_pts, dst.GA_pdf(dist_pts, alpha_MLE_GA, beta_MLE_GA), linewidth = 2, \n",
    "         color = 'white', label = 'GA (alpha = 0.22, beta = 21911.06)')\n",
    "plt.plot(dist_pts, dst.GG_pdf(dist_pts, alpha_MLE_GG, beta_MLE_GG, m_MLE_GG), linewidth = 2,\n",
    "         color = 'y', label = 'GG (alpha = 0.22, beta = 21911.06, m = 0.99)')\n",
    "plt.plot(dist_pts, dst.GB2_pdf(dist_pts, a_MLE_GB2, b_MLE_GB2, p_MLE_GB2, q_MLE_GB2), linewidth = 2,\n",
    "         color = 'r', label = 'GB2 (a= 0.11, b=21924.86, =54.93, q=94.00)')\n",
    "plt.legend(loc = 'upper right')"
   ]
  },
  {
   "cell_type": "markdown",
   "metadata": {},
   "source": [
    "### e. Likelihood Ratio Test\n",
    "$$ LR(\\tilde{\\theta}|\\hat{\\theta}_{MLE}) = 2\\Bigl(\\ln\\ell(\\hat{\\theta}_{MLE}) - \\ln\\ell(\\tilde{\\theta})\\Bigr) \\sim \\chi^2(p) $$\n",
    "$$ GG(\\alpha,\\beta,m) = \\lim_{q\\rightarrow\\infty}GB2\\left(a=m,b=q^{1/m}\\beta,p=\\frac{\\alpha}{m},q\\right) $$\n",
    "$$ GA(\\alpha,\\beta) = GG(\\alpha,\\beta,m=1) $$"
   ]
  },
  {
   "cell_type": "code",
   "execution_count": 24,
   "metadata": {},
   "outputs": [
    {
     "name": "stdout",
     "output_type": "stream",
     "text": [
      "chi squared of H_0_b with 4 degrees of freedom p-value =  0.0\n",
      "chi squared of H_0_c with 4 degrees of freedom p-value =  0.0\n"
     ]
    }
   ],
   "source": [
    "LR_b = 2 * (log_lik_MLE_GB2 - log_lik_MLE_GA)\n",
    "pval_h0_b = 1.0 - sts.chi2.cdf(LR_b, 4)\n",
    "print('chi squared of H_0_b with 4 degrees of freedom p-value = ', pval_h0_b)\n",
    "\n",
    "LR_c = 2 * (log_lik_MLE_GB2 - log_lik_MLE_GG)\n",
    "pval_h0_c = 1.0 - sts.chi2.cdf(LR_c, 4)\n",
    "print('chi squared of H_0_c with 4 degrees of freedom p-value = ', pval_h0_c)"
   ]
  },
  {
   "cell_type": "markdown",
   "metadata": {},
   "source": [
    "### f. Hypthesis Testing"
   ]
  },
  {
   "cell_type": "code",
   "execution_count": 70,
   "metadata": {},
   "outputs": [
    {
     "name": "stdout",
     "output_type": "stream",
     "text": [
      "Assuming GA distribution, prob of health claim higher than $1000:  0.4519597444786656\n",
      "Assumeing GB2 distribution, prob of health claim higher than $1000:  0.13062539899950565\n"
     ]
    }
   ],
   "source": [
    "p_GA = integrate.quad(lambda x: dst.GA_pdf(x, alpha_MLE_GA, beta_MLE_GA), 1e-10, 1000)[0]\n",
    "p_GB2 = integrate.quad(lambda x: dst.GB2_pdf(x, a_MLE_GB2, b_MLE_GB2, p_MLE_GB2, q_MLE_GB2), 1e-10, 1000)[0]\n",
    "\n",
    "print('Assuming GA distribution, prob of health claim higher than $1000: ', 1-p_GA)\n",
    "print('Assumeing GB2 distribution, prob of health claim higher than $1000: ', 1-p_GB2)"
   ]
  },
  {
   "cell_type": "markdown",
   "metadata": {},
   "source": [
    "## 2. MLE Estimation of Simple Macroeconomic Model \n",
    "### a. MLE with $(w_t, k_t)$ \n",
    "$$w_t-(1-\\alpha)e^{z_t}(k_t)^{\\alpha}=0$$\n",
    "$$z_t=\\rho z_{t-1}+(1-\\rho)\\mu+\\varepsilon_t \\quad z_t \\sim N(\\rho z_{t-1}+(1-\\rho)\\mu, {\\sigma}^2)$$\n",
    "$$z_t=logw_t-log(1-\\alpha)-\\alpha logk_t$$"
   ]
  },
  {
   "cell_type": "code",
   "execution_count": 71,
   "metadata": {},
   "outputs": [],
   "source": [
    "c, k, w, r = np.loadtxt('MacroSeries.txt', unpack=True, delimiter=\",\", dtype = np.float)"
   ]
  },
  {
   "cell_type": "code",
   "execution_count": 72,
   "metadata": {},
   "outputs": [],
   "source": [
    "def log_lik_norm(z, mu, sigma):\n",
    "    log_vals = -( (z - mu) ** 2) / (2 * sigma ** 2) -np.log(sigma * math.sqrt(2 * math.pi) )\n",
    "    log_lik_norm = log_vals.sum()\n",
    "    return log_lik_norm\n",
    "\n",
    "    \n",
    "def crit_wk(params, *args):\n",
    "    alpha, rho, mu, sigma = params\n",
    "    w, k = args\n",
    "    z = np.log(w) - np.log(1-alpha) - alpha * np.log(k)\n",
    "    z_lag = np.roll(z,1)\n",
    "    z_lag[0] = mu\n",
    "    neg_log_lik = - log_lik_norm (z, rho * z_lag + (1-rho) * mu, sigma)\n",
    "    \n",
    "    return neg_log_lik"
   ]
  },
  {
   "cell_type": "markdown",
   "metadata": {},
   "source": [
    "Use the empirical capital share of output as initial value of alpha. Set high initial value for rho since we expect that the TFP to be consistent across time."
   ]
  },
  {
   "cell_type": "code",
   "execution_count": 73,
   "metadata": {},
   "outputs": [],
   "source": [
    "alpha_0 = np.sum(k)/(np.sum(k) + np.sum(w))\n",
    "rho_0 = 0.7\n",
    "z = np.log(w) - np.log(1 - alpha_0) - alpha_0 * np.log(k)\n",
    "mu_0 = z [0]\n",
    "sigma_0 = np.std(z)\n",
    "params_0 = np.array([alpha_0, rho_0, mu_0, sigma_0])\n",
    "bnds = ((1e-10, 1-1e-10), (-1+1e-10, 1-1e-10), (1e-10, None), (1e-10, None))"
   ]
  },
  {
   "cell_type": "code",
   "execution_count": 74,
   "metadata": {},
   "outputs": [
    {
     "data": {
      "text/plain": [
       "      fun: -96.70690806796091\n",
       " hess_inv: <4x4 LbfgsInvHessProduct with dtype=float64>\n",
       "      jac: array([-0.01038813, -0.00057838, -0.00072902,  0.0104734 ])\n",
       "  message: b'CONVERGENCE: REL_REDUCTION_OF_F_<=_FACTR*EPSMCH'\n",
       "     nfev: 185\n",
       "      nit: 32\n",
       "   status: 0\n",
       "  success: True\n",
       "        x: array([0.45751623, 0.7204865 , 9.52272008, 0.09199667])"
      ]
     },
     "execution_count": 74,
     "metadata": {},
     "output_type": "execute_result"
    }
   ],
   "source": [
    "results_cstr_wk = opt.minimize(crit_wk, params_0, args=((w, k)), method=\"L-BFGS-B\", bounds = bnds )\n",
    "results_cstr_wk"
   ]
  },
  {
   "cell_type": "code",
   "execution_count": 77,
   "metadata": {},
   "outputs": [
    {
     "name": "stdout",
     "output_type": "stream",
     "text": [
      "alpha_MLE_wk =  0.45751623143806586\n",
      "rho_MLE_wk =  0.7204864974460844\n",
      "mu_MLE_wk =  9.522720077137105\n",
      "sigma_MLE_wk =  0.09199667447879084\n",
      "VCV(MLE) =  [[ 1.51544571e+01  1.08214268e+01 -2.10816257e+02 -2.39580139e+00]\n",
      " [ 1.08214268e+01  7.99046870e+00 -1.50292871e+02 -1.85405904e+00]\n",
      " [-2.10816257e+02 -1.50292871e+02  2.93308411e+03  3.31190526e+01]\n",
      " [-2.39580139e+00 -1.85405904e+00  3.31190526e+01  4.94278685e-01]]\n",
      "Standard error for alpha estimate =  3.8928726054481544\n",
      "Standard error for rho estimate =  2.8267417116014424\n",
      "Standard error for mu estimate =  54.15795516956665\n",
      "Standard error for sigma estimate =  0.7030495607315225\n"
     ]
    }
   ],
   "source": [
    "alpha_MLE_wk, rho_MLE_wk, mu_MLE_wk, sigma_MLE_wk =results_cstr_wk.x\n",
    "print('alpha_MLE_wk = ', alpha_MLE_wk)\n",
    "print('rho_MLE_wk = ', rho_MLE_wk)\n",
    "print('mu_MLE_wk = ', mu_MLE_wk)\n",
    "print('sigma_MLE_wk = ', sigma_MLE_wk)\n",
    "\n",
    "vcv_mle = (results_cstr_wk.hess_inv).matmat(np.eye(4))\n",
    "\n",
    "stderr_alpha_mle = np.sqrt(vcv_mle[0,0])\n",
    "stderr_rho_mle = np.sqrt(vcv_mle[1,1])\n",
    "stderr_mu_mle = np.sqrt(vcv_mle[2,2])\n",
    "stderr_sig_mle = np.sqrt(vcv_mle[3,3])\n",
    "print('VCV(MLE) = ', vcv_mle)\n",
    "print('Standard error for alpha estimate = ', stderr_alpha_mle)\n",
    "print('Standard error for rho estimate = ', stderr_rho_mle)\n",
    "print('Standard error for mu estimate = ', stderr_mu_mle)\n",
    "print('Standard error for sigma estimate = ', stderr_sig_mle)"
   ]
  },
  {
   "cell_type": "markdown",
   "metadata": {},
   "source": [
    "### b. MLE with  $(r_t, k_t)$\n",
    "$$r_t-\\alpha e^{z_t}k_t^{\\alpha-1}=0$$\n",
    "$$z_t=(1-\\alpha)logk_t+logr_t-log\\alpha$$"
   ]
  },
  {
   "cell_type": "code",
   "execution_count": 78,
   "metadata": {},
   "outputs": [],
   "source": [
    "def crit_rk(params, *args):\n",
    "    alpha, rho, mu, sigma = params\n",
    "    r, k = args\n",
    "    z = (1 - alpha) * np.log(k) + np.log(r) - np.log(alpha)\n",
    "    z_lag = np.roll(z,1)\n",
    "    z_lag[0] = mu\n",
    "    neg_log_lik = - log_lik_norm (z, rho * z_lag + (1-rho) * mu, sigma)\n",
    "    \n",
    "    return neg_log_lik"
   ]
  },
  {
   "cell_type": "code",
   "execution_count": 79,
   "metadata": {},
   "outputs": [
    {
     "data": {
      "text/plain": [
       "      fun: -96.70690801510555\n",
       " hess_inv: <4x4 LbfgsInvHessProduct with dtype=float64>\n",
       "      jac: array([-5.28643795e-03, -2.13162821e-05, -2.84217094e-04,  7.58859642e-04])\n",
       "  message: b'CONVERGENCE: REL_REDUCTION_OF_F_<=_FACTR*EPSMCH'\n",
       "     nfev: 185\n",
       "      nit: 28\n",
       "   status: 0\n",
       "  success: True\n",
       "        x: array([0.45747369, 0.72052017, 9.37105922, 0.09199626])"
      ]
     },
     "execution_count": 79,
     "metadata": {},
     "output_type": "execute_result"
    }
   ],
   "source": [
    "results_cstr_rk = opt.minimize(crit_rk, params_0, args = ((r,k)), method = 'L-BFGS-B', bounds = bnds)\n",
    "results_cstr_rk"
   ]
  },
  {
   "cell_type": "code",
   "execution_count": 80,
   "metadata": {},
   "outputs": [
    {
     "name": "stdout",
     "output_type": "stream",
     "text": [
      "alpha_MLE_rk =  0.4574736869802028\n",
      "rho_MLE_rk =  0.7205201692687961\n",
      "mu_MLE_rk =  9.371059221511201\n",
      "sigma_MLE_rk =  0.09199626335999808\n",
      "VCV(MLE) =  [[ 3.76926311e+00 -2.92928894e+00 -6.25510699e+01 -6.61470396e-01]\n",
      " [-2.92928894e+00  6.91996426e+00  4.90824178e+01  1.15972111e-01]\n",
      " [-6.25510699e+01  4.90824178e+01  1.03815218e+03  1.09288745e+01]\n",
      " [-6.61470396e-01  1.15972111e-01  1.09288745e+01  1.51247708e-01]]\n",
      "Standard error for alpha estimate =  1.9414590162330916\n",
      "Standard error for rho estimate =  2.6305824953028445\n",
      "Standard error for mu estimate =  32.220368950040985\n",
      "Standard error for sigma estimate =  0.38890578237483786\n"
     ]
    }
   ],
   "source": [
    "alpha_MLE_rk, rho_MLE_rk, mu_MLE_rk, sigma_MLE_rk =results_cstr_rk.x\n",
    "print('alpha_MLE_rk = ', alpha_MLE_rk)\n",
    "print('rho_MLE_rk = ', rho_MLE_rk)\n",
    "print('mu_MLE_rk = ', mu_MLE_rk)\n",
    "print('sigma_MLE_rk = ', sigma_MLE_rk)\n",
    "\n",
    "vcv_mle = (results_cstr_rk.hess_inv).matmat(np.eye(4))\n",
    "\n",
    "stderr_alpha_mle = np.sqrt(vcv_mle[0,0])\n",
    "stderr_rho_mle = np.sqrt(vcv_mle[1,1])\n",
    "stderr_mu_mle = np.sqrt(vcv_mle[2,2])\n",
    "stderr_sig_mle = np.sqrt(vcv_mle[3,3])\n",
    "print('VCV(MLE) = ', vcv_mle)\n",
    "print('Standard error for alpha estimate = ', stderr_alpha_mle)\n",
    "print('Standard error for rho estimate = ', stderr_rho_mle)\n",
    "print('Standard error for mu estimate = ', stderr_mu_mle)\n",
    "print('Standard error for sigma estimate = ', stderr_sig_mle)"
   ]
  },
  {
   "cell_type": "markdown",
   "metadata": {},
   "source": [
    "### c. \n",
    "when $r_t=1, z_t = z^*=(1-\\alpha)logk_t-log\\alpha$\n",
    "$$z_t \\sim N(\\rho z_{t-1}+(1-\\rho)\\mu$$"
   ]
  },
  {
   "cell_type": "code",
   "execution_count": 81,
   "metadata": {},
   "outputs": [
    {
     "name": "stdout",
     "output_type": "stream",
     "text": [
      "9.369685332305002 9.86659381706193\n"
     ]
    }
   ],
   "source": [
    "z_star = (1-alpha_MLE_wk) * np.log(7500000) - np.log(alpha_MLE_wk)\n",
    "mu_star = rho_MLE_wk * 10 + (1-rho_MLE_wk) * mu_MLE_wk\n",
    "print(z_star, mu_star)"
   ]
  },
  {
   "cell_type": "code",
   "execution_count": 82,
   "metadata": {},
   "outputs": [
    {
     "name": "stdout",
     "output_type": "stream",
     "text": [
      "Pobablity that interest rate greater than 1 is  0.9518919314154524\n"
     ]
    }
   ],
   "source": [
    "prob = integrate.quad(lambda x: sts.norm.pdf(x, mu_MLE_wk, sigma_MLE_wk), z_star, math.inf)[0]\n",
    "print('Pobablity that interest rate greater than 1 is ', prob)"
   ]
  }
 ],
 "metadata": {
  "kernelspec": {
   "display_name": "Python 3",
   "language": "python",
   "name": "python3"
  },
  "language_info": {
   "codemirror_mode": {
    "name": "ipython",
    "version": 3
   },
   "file_extension": ".py",
   "mimetype": "text/x-python",
   "name": "python",
   "nbconvert_exporter": "python",
   "pygments_lexer": "ipython3",
   "version": "3.7.4"
  }
 },
 "nbformat": 4,
 "nbformat_minor": 2
}
